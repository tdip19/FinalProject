{
 "cells": [
  {
   "cell_type": "markdown",
   "id": "391704af-86f0-40d6-939e-745acd334a7a",
   "metadata": {
    "slideshow": {
     "slide_type": "slide"
    },
    "tags": []
   },
   "source": [
    "# Predicting Unemployment During Economic Downturns\n",
    "\n",
    "Project completed by Tim DiPalo, Tom Griffith, and Christyan Jean-Charles"
   ]
  },
  {
   "cell_type": "markdown",
   "id": "0f930021-db6c-48ad-a69b-33fa05273fd5",
   "metadata": {
    "slideshow": {
     "slide_type": "subslide"
    },
    "tags": []
   },
   "source": [
    "## Introduction\n",
    "\n",
    "- Explore the use of past data on industry trends and leading indicators to predict future employment and economic trends.\n",
    "- Importance of understanding unemployment as it relates to job security, especially in the current economic climate.\n",
    "- Explanation of why we chose these industries."
   ]
  },
  {
   "cell_type": "markdown",
   "id": "50571941-2b01-486a-a0b9-145842c578d1",
   "metadata": {
    "slideshow": {
     "slide_type": "slide"
    },
    "tags": []
   },
   "source": [
    "## Methodology\n",
    "\n",
    "- Data gathered from the Bureau of Labor Statistics and the Bureau of Economic Analysis.\n",
    "- Data cleaning and merging."
   ]
  },
  {
   "cell_type": "markdown",
   "id": "4ecf0e3b-d2b0-42c3-a948-6d5aaf99a66f",
   "metadata": {
    "slideshow": {
     "slide_type": "subslide"
    },
    "tags": []
   },
   "source": [
    "INSERT IMAGE OF DATAFRAME"
   ]
  },
  {
   "cell_type": "markdown",
   "id": "3309856f-66c3-416c-950b-ad00b89a432c",
   "metadata": {
    "slideshow": {
     "slide_type": "slide"
    },
    "tags": []
   },
   "source": [
    "# Regression Analysis"
   ]
  },
  {
   "cell_type": "markdown",
   "id": "bc2bebcc-c636-4eb2-8068-4744bcfdde0a",
   "metadata": {
    "slideshow": {
     "slide_type": "slide"
    },
    "tags": []
   },
   "source": [
    "# Machine Learning Analysis"
   ]
  },
  {
   "cell_type": "markdown",
   "id": "9a42fb7e-68b5-418a-9c8a-cddab75ac601",
   "metadata": {
    "slideshow": {
     "slide_type": "slide"
    },
    "tags": []
   },
   "source": [
    "# Our Findings"
   ]
  },
  {
   "cell_type": "markdown",
   "id": "54edf41b-c13b-4808-85b4-b6b4c06a7413",
   "metadata": {
    "slideshow": {
     "slide_type": "slide"
    },
    "tags": []
   },
   "source": [
    "# Thank You!\n",
    "Any Quesions?"
   ]
  }
 ],
 "metadata": {
  "kernelspec": {
   "display_name": "Python 3 (ipykernel)",
   "language": "python",
   "name": "python3"
  },
  "language_info": {
   "codemirror_mode": {
    "name": "ipython",
    "version": 3
   },
   "file_extension": ".py",
   "mimetype": "text/x-python",
   "name": "python",
   "nbconvert_exporter": "python",
   "pygments_lexer": "ipython3",
   "version": "3.9.15"
  }
 },
 "nbformat": 4,
 "nbformat_minor": 5
}
